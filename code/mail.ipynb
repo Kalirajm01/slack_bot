{
  "nbformat": 4,
  "nbformat_minor": 0,
  "metadata": {
    "colab": {
      "provenance": []
    },
    "kernelspec": {
      "name": "python3",
      "display_name": "Python 3"
    },
    "language_info": {
      "name": "python"
    }
  },
  "cells": [
    {
      "cell_type": "code",
      "execution_count": null,
      "metadata": {
        "id": "tElSwg5jwtGU"
      },
      "outputs": [],
      "source": [
        "import smtplib\n",
        "from email.mime.multipart import MIMEMultipart\n",
        "from email.mime.text import MIMEText\n",
        "\n",
        "def send_email(subject, body, to_email):\n",
        "    smtp_server = 'smtp.gmail.com'\n",
        "    smtp_port = 587\n",
        "\n",
        "    sender_email = 'd22z701@psgitech.ac.in'\n",
        "    sender_password = '*******'\n",
        "\n",
        "    message = MIMEMultipart()\n",
        "    message['From'] = sender_email\n",
        "    message['To'] = to_email\n",
        "    message['Subject'] = subject\n",
        "\n",
        "    message.attach(MIMEText(body, 'plain'))\n",
        "\n",
        "    server = smtplib.SMTP(smtp_server, smtp_port)\n",
        "    server.starttls()\n",
        "\n",
        "    server.login(sender_email, sender_password)\n",
        "\n",
        "    server.sendmail(sender_email, to_email, message.as_string())\n",
        "\n",
        "    server.quit()\n",
        "\n",
        "subject = \"Notification\"\n",
        "body = \"This is a test email notification from Python.\"\n",
        "to_email = \"d22z605@psgitech.ac.in\"\n",
        "send_email(subject, body, to_email)\n"
      ]
    }
  ]
}